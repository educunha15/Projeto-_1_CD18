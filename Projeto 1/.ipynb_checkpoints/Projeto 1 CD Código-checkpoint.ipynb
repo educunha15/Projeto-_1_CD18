{
 "cells": [
  {
   "cell_type": "markdown",
   "metadata": {},
   "source": [
    "# Introdução"
   ]
  },
  {
   "cell_type": "markdown",
   "metadata": {},
   "source": [
    "No mundo de hoje é extremamente difícil imaginar o cotidiano das pessoas sem a utilização de energia elétrica e combustíveis. Com isso em mente, a pergunta a ser respondida com a análise exploratória é: existe alguma relação entre o uso de energia elétrica e/ou \n",
    "petróleo per capita de um país e seu IDH (Índice de Desenvolvimento Humano)? Caso exista, como se dá esta relação?\n",
    "\n",
    "Para comparar as variáveis em questão serão utilizados gráficos de dispersão (scatter), pois são uma boa ferramenta para examinar relações entre dados quantitativos; bem como histogramas e boxplots para analisar individualmente as variáveis da amostra.\n"
   ]
  },
  {
   "cell_type": "code",
   "execution_count": 1,
   "metadata": {},
   "outputs": [],
   "source": [
    "#Eduardo Cunha\n",
    "\n",
    "import pandas as pd\n",
    "%matplotlib inline\n",
    "import matplotlib.pyplot as plt\n",
    "import matplotlib\n",
    "import seaborn as sns\n",
    "\n",
    "#Importando os arquivos\n",
    "\n",
    "IDH = pd.read_excel('HDI.xlsx')\n",
    "elecpc = pd.read_excel('Electricity Consumption per capita.xlsx')\n",
    "oilpc = pd.read_excel('Oil Consumption per capita.xlsx')\n"
   ]
  },
  {
   "cell_type": "code",
   "execution_count": 2,
   "metadata": {},
   "outputs": [],
   "source": [
    "#Selecionando os dados de 2007\n",
    "\n",
    "IDH_2007 = IDH.loc[:, ['HDI', 2007]]\n",
    "elecpc_2007 = elecpc.loc[:, ['Electricity consumption, per capita (kWh)', '2007']]\n",
    "oilpc_2007 = oilpc.loc[:, ['Oil Consumption per capita (tonnes per year)', 2007]]\n",
    "\n",
    "#Mudando o índice\n",
    "\n",
    "IDH_idx = IDH_2007.set_index('HDI')\n",
    "elecpc_idx = elecpc_2007.set_index('Electricity consumption, per capita (kWh)')\n",
    "oilpc_idx = oilpc_2007.set_index('Oil Consumption per capita (tonnes per year)')"
   ]
  },
  {
   "cell_type": "code",
   "execution_count": 3,
   "metadata": {},
   "outputs": [
    {
     "data": {
      "text/html": [
       "<div>\n",
       "<style scoped>\n",
       "    .dataframe tbody tr th:only-of-type {\n",
       "        vertical-align: middle;\n",
       "    }\n",
       "\n",
       "    .dataframe tbody tr th {\n",
       "        vertical-align: top;\n",
       "    }\n",
       "\n",
       "    .dataframe thead th {\n",
       "        text-align: right;\n",
       "    }\n",
       "</style>\n",
       "<table border=\"1\" class=\"dataframe\">\n",
       "  <thead>\n",
       "    <tr style=\"text-align: right;\">\n",
       "      <th></th>\n",
       "      <th>2007_HDI</th>\n",
       "      <th>2007_ECPC (kWh)</th>\n",
       "      <th>2007_OCPC (tonnes)</th>\n",
       "    </tr>\n",
       "  </thead>\n",
       "  <tbody>\n",
       "    <tr>\n",
       "      <th>Algeria</th>\n",
       "      <td>0.680</td>\n",
       "      <td>870.586163</td>\n",
       "      <td>0.380591</td>\n",
       "    </tr>\n",
       "    <tr>\n",
       "      <th>Argentina</th>\n",
       "      <td>0.780</td>\n",
       "      <td>2351.482559</td>\n",
       "      <td>0.589127</td>\n",
       "    </tr>\n",
       "    <tr>\n",
       "      <th>Australia</th>\n",
       "      <td>0.922</td>\n",
       "      <td>10874.528333</td>\n",
       "      <td>1.975960</td>\n",
       "    </tr>\n",
       "    <tr>\n",
       "      <th>Austria</th>\n",
       "      <td>0.870</td>\n",
       "      <td>8180.307701</td>\n",
       "      <td>1.611835</td>\n",
       "    </tr>\n",
       "    <tr>\n",
       "      <th>Bangladesh</th>\n",
       "      <td>0.478</td>\n",
       "      <td>200.802874</td>\n",
       "      <td>0.031543</td>\n",
       "    </tr>\n",
       "    <tr>\n",
       "      <th>Belarus</th>\n",
       "      <td>0.738</td>\n",
       "      <td>3394.246862</td>\n",
       "      <td>0.782568</td>\n",
       "    </tr>\n",
       "    <tr>\n",
       "      <th>Brazil</th>\n",
       "      <td>0.700</td>\n",
       "      <td>2169.129260</td>\n",
       "      <td>0.525743</td>\n",
       "    </tr>\n",
       "    <tr>\n",
       "      <th>Bulgaria</th>\n",
       "      <td>0.758</td>\n",
       "      <td>4455.750856</td>\n",
       "      <td>0.692318</td>\n",
       "    </tr>\n",
       "    <tr>\n",
       "      <th>Canada</th>\n",
       "      <td>0.900</td>\n",
       "      <td>16847.884400</td>\n",
       "      <td>3.118107</td>\n",
       "    </tr>\n",
       "    <tr>\n",
       "      <th>Chile</th>\n",
       "      <td>0.789</td>\n",
       "      <td>3311.677825</td>\n",
       "      <td>0.969642</td>\n",
       "    </tr>\n",
       "    <tr>\n",
       "      <th>China</th>\n",
       "      <td>0.656</td>\n",
       "      <td>2330.262504</td>\n",
       "      <td>0.274536</td>\n",
       "    </tr>\n",
       "    <tr>\n",
       "      <th>Colombia</th>\n",
       "      <td>0.691</td>\n",
       "      <td>972.170004</td>\n",
       "      <td>0.240298</td>\n",
       "    </tr>\n",
       "    <tr>\n",
       "      <th>Denmark</th>\n",
       "      <td>0.890</td>\n",
       "      <td>6668.390266</td>\n",
       "      <td>1.695516</td>\n",
       "    </tr>\n",
       "    <tr>\n",
       "      <th>Ecuador</th>\n",
       "      <td>0.702</td>\n",
       "      <td>912.646319</td>\n",
       "      <td>0.642814</td>\n",
       "    </tr>\n",
       "    <tr>\n",
       "      <th>Egypt</th>\n",
       "      <td>0.626</td>\n",
       "      <td>1492.882008</td>\n",
       "      <td>0.397185</td>\n",
       "    </tr>\n",
       "    <tr>\n",
       "      <th>Finland</th>\n",
       "      <td>0.881</td>\n",
       "      <td>17161.241283</td>\n",
       "      <td>2.008819</td>\n",
       "    </tr>\n",
       "    <tr>\n",
       "      <th>France</th>\n",
       "      <td>0.877</td>\n",
       "      <td>7520.163383</td>\n",
       "      <td>1.479151</td>\n",
       "    </tr>\n",
       "    <tr>\n",
       "      <th>Germany</th>\n",
       "      <td>0.901</td>\n",
       "      <td>7184.308553</td>\n",
       "      <td>1.363258</td>\n",
       "    </tr>\n",
       "    <tr>\n",
       "      <th>Greece</th>\n",
       "      <td>0.860</td>\n",
       "      <td>5627.832913</td>\n",
       "      <td>1.928087</td>\n",
       "    </tr>\n",
       "    <tr>\n",
       "      <th>Hong Kong, China</th>\n",
       "      <td>0.870</td>\n",
       "      <td>5907.349305</td>\n",
       "      <td>2.321355</td>\n",
       "    </tr>\n",
       "    <tr>\n",
       "      <th>Hungary</th>\n",
       "      <td>0.809</td>\n",
       "      <td>3976.518977</td>\n",
       "      <td>0.770321</td>\n",
       "    </tr>\n",
       "    <tr>\n",
       "      <th>Iceland</th>\n",
       "      <td>0.899</td>\n",
       "      <td>36852.544886</td>\n",
       "      <td>3.400787</td>\n",
       "    </tr>\n",
       "    <tr>\n",
       "      <th>India</th>\n",
       "      <td>0.523</td>\n",
       "      <td>544.687764</td>\n",
       "      <td>0.109480</td>\n",
       "    </tr>\n",
       "    <tr>\n",
       "      <th>Indonesia</th>\n",
       "      <td>0.591</td>\n",
       "      <td>549.830957</td>\n",
       "      <td>0.242428</td>\n",
       "    </tr>\n",
       "    <tr>\n",
       "      <th>Iran</th>\n",
       "      <td>0.694</td>\n",
       "      <td>2292.101241</td>\n",
       "      <td>1.138649</td>\n",
       "    </tr>\n",
       "    <tr>\n",
       "      <th>Ireland</th>\n",
       "      <td>0.909</td>\n",
       "      <td>6278.731520</td>\n",
       "      <td>2.194228</td>\n",
       "    </tr>\n",
       "    <tr>\n",
       "      <th>Italy</th>\n",
       "      <td>0.869</td>\n",
       "      <td>5712.730089</td>\n",
       "      <td>1.411441</td>\n",
       "    </tr>\n",
       "    <tr>\n",
       "      <th>Japan</th>\n",
       "      <td>0.894</td>\n",
       "      <td>8489.650409</td>\n",
       "      <td>1.812485</td>\n",
       "    </tr>\n",
       "    <tr>\n",
       "      <th>Kazakhstan</th>\n",
       "      <td>0.727</td>\n",
       "      <td>4487.286130</td>\n",
       "      <td>0.749969</td>\n",
       "    </tr>\n",
       "    <tr>\n",
       "      <th>Kuwait</th>\n",
       "      <td>0.756</td>\n",
       "      <td>16752.775038</td>\n",
       "      <td>5.572449</td>\n",
       "    </tr>\n",
       "    <tr>\n",
       "      <th>Lithuania</th>\n",
       "      <td>0.803</td>\n",
       "      <td>3411.819702</td>\n",
       "      <td>0.826151</td>\n",
       "    </tr>\n",
       "    <tr>\n",
       "      <th>Malaysia</th>\n",
       "      <td>0.746</td>\n",
       "      <td>3261.489906</td>\n",
       "      <td>0.815091</td>\n",
       "    </tr>\n",
       "    <tr>\n",
       "      <th>Mexico</th>\n",
       "      <td>0.755</td>\n",
       "      <td>1899.192669</td>\n",
       "      <td>0.818102</td>\n",
       "    </tr>\n",
       "    <tr>\n",
       "      <th>Netherlands</th>\n",
       "      <td>0.902</td>\n",
       "      <td>7209.937237</td>\n",
       "      <td>2.795083</td>\n",
       "    </tr>\n",
       "    <tr>\n",
       "      <th>New Zealand</th>\n",
       "      <td>0.903</td>\n",
       "      <td>9630.584396</td>\n",
       "      <td>1.705707</td>\n",
       "    </tr>\n",
       "    <tr>\n",
       "      <th>Norway</th>\n",
       "      <td>0.942</td>\n",
       "      <td>24855.000464</td>\n",
       "      <td>2.154276</td>\n",
       "    </tr>\n",
       "    <tr>\n",
       "      <th>Pakistan</th>\n",
       "      <td>0.493</td>\n",
       "      <td>470.254290</td>\n",
       "      <td>0.116657</td>\n",
       "    </tr>\n",
       "    <tr>\n",
       "      <th>Peru</th>\n",
       "      <td>0.704</td>\n",
       "      <td>966.909191</td>\n",
       "      <td>0.251233</td>\n",
       "    </tr>\n",
       "    <tr>\n",
       "      <th>Philippines</th>\n",
       "      <td>0.630</td>\n",
       "      <td>585.121568</td>\n",
       "      <td>0.157481</td>\n",
       "    </tr>\n",
       "    <tr>\n",
       "      <th>Poland</th>\n",
       "      <td>0.800</td>\n",
       "      <td>3661.646104</td>\n",
       "      <td>0.632971</td>\n",
       "    </tr>\n",
       "    <tr>\n",
       "      <th>Portugal</th>\n",
       "      <td>0.798</td>\n",
       "      <td>4860.423431</td>\n",
       "      <td>1.359078</td>\n",
       "    </tr>\n",
       "    <tr>\n",
       "      <th>Qatar</th>\n",
       "      <td>0.825</td>\n",
       "      <td>15682.987421</td>\n",
       "      <td>3.368326</td>\n",
       "    </tr>\n",
       "    <tr>\n",
       "      <th>Romania</th>\n",
       "      <td>0.767</td>\n",
       "      <td>2451.956718</td>\n",
       "      <td>0.477619</td>\n",
       "    </tr>\n",
       "    <tr>\n",
       "      <th>Russia</th>\n",
       "      <td>0.742</td>\n",
       "      <td>6317.241379</td>\n",
       "      <td>0.880815</td>\n",
       "    </tr>\n",
       "    <tr>\n",
       "      <th>Saudi Arabia</th>\n",
       "      <td>0.755</td>\n",
       "      <td>6746.702298</td>\n",
       "      <td>3.768908</td>\n",
       "    </tr>\n",
       "    <tr>\n",
       "      <th>Singapore</th>\n",
       "      <td>0.850</td>\n",
       "      <td>8513.707885</td>\n",
       "      <td>10.341927</td>\n",
       "    </tr>\n",
       "    <tr>\n",
       "      <th>Slovak Republic</th>\n",
       "      <td>0.825</td>\n",
       "      <td>5250.200192</td>\n",
       "      <td>0.761558</td>\n",
       "    </tr>\n",
       "    <tr>\n",
       "      <th>South Africa</th>\n",
       "      <td>0.604</td>\n",
       "      <td>4938.404944</td>\n",
       "      <td>0.528053</td>\n",
       "    </tr>\n",
       "    <tr>\n",
       "      <th>Spain</th>\n",
       "      <td>0.866</td>\n",
       "      <td>6101.302069</td>\n",
       "      <td>1.767248</td>\n",
       "    </tr>\n",
       "    <tr>\n",
       "      <th>Sweden</th>\n",
       "      <td>0.899</td>\n",
       "      <td>15257.935753</td>\n",
       "      <td>1.606222</td>\n",
       "    </tr>\n",
       "    <tr>\n",
       "      <th>Switzerland</th>\n",
       "      <td>0.893</td>\n",
       "      <td>8163.295576</td>\n",
       "      <td>1.503683</td>\n",
       "    </tr>\n",
       "    <tr>\n",
       "      <th>Thailand</th>\n",
       "      <td>0.670</td>\n",
       "      <td>2083.556337</td>\n",
       "      <td>0.563378</td>\n",
       "    </tr>\n",
       "    <tr>\n",
       "      <th>Turkey</th>\n",
       "      <td>0.688</td>\n",
       "      <td>2350.520810</td>\n",
       "      <td>0.435655</td>\n",
       "    </tr>\n",
       "    <tr>\n",
       "      <th>Turkmenistan</th>\n",
       "      <td>0.666</td>\n",
       "      <td>2259.873748</td>\n",
       "      <td>1.109415</td>\n",
       "    </tr>\n",
       "    <tr>\n",
       "      <th>Ukraine</th>\n",
       "      <td>0.725</td>\n",
       "      <td>3528.924829</td>\n",
       "      <td>0.331639</td>\n",
       "    </tr>\n",
       "    <tr>\n",
       "      <th>United Arab Emirates</th>\n",
       "      <td>0.827</td>\n",
       "      <td>12168.324580</td>\n",
       "      <td>3.821264</td>\n",
       "    </tr>\n",
       "    <tr>\n",
       "      <th>United Kingdom</th>\n",
       "      <td>0.856</td>\n",
       "      <td>6136.015114</td>\n",
       "      <td>1.301253</td>\n",
       "    </tr>\n",
       "    <tr>\n",
       "      <th>United States</th>\n",
       "      <td>0.905</td>\n",
       "      <td>13657.449509</td>\n",
       "      <td>3.117270</td>\n",
       "    </tr>\n",
       "    <tr>\n",
       "      <th>Uzbekistan</th>\n",
       "      <td>0.619</td>\n",
       "      <td>1658.366830</td>\n",
       "      <td>0.204490</td>\n",
       "    </tr>\n",
       "    <tr>\n",
       "      <th>Venezuela</th>\n",
       "      <td>0.720</td>\n",
       "      <td>2987.206689</td>\n",
       "      <td>1.087568</td>\n",
       "    </tr>\n",
       "  </tbody>\n",
       "</table>\n",
       "</div>"
      ],
      "text/plain": [
       "                      2007_HDI  2007_ECPC (kWh)  2007_OCPC (tonnes)\n",
       "Algeria                  0.680       870.586163            0.380591\n",
       "Argentina                0.780      2351.482559            0.589127\n",
       "Australia                0.922     10874.528333            1.975960\n",
       "Austria                  0.870      8180.307701            1.611835\n",
       "Bangladesh               0.478       200.802874            0.031543\n",
       "Belarus                  0.738      3394.246862            0.782568\n",
       "Brazil                   0.700      2169.129260            0.525743\n",
       "Bulgaria                 0.758      4455.750856            0.692318\n",
       "Canada                   0.900     16847.884400            3.118107\n",
       "Chile                    0.789      3311.677825            0.969642\n",
       "China                    0.656      2330.262504            0.274536\n",
       "Colombia                 0.691       972.170004            0.240298\n",
       "Denmark                  0.890      6668.390266            1.695516\n",
       "Ecuador                  0.702       912.646319            0.642814\n",
       "Egypt                    0.626      1492.882008            0.397185\n",
       "Finland                  0.881     17161.241283            2.008819\n",
       "France                   0.877      7520.163383            1.479151\n",
       "Germany                  0.901      7184.308553            1.363258\n",
       "Greece                   0.860      5627.832913            1.928087\n",
       "Hong Kong, China         0.870      5907.349305            2.321355\n",
       "Hungary                  0.809      3976.518977            0.770321\n",
       "Iceland                  0.899     36852.544886            3.400787\n",
       "India                    0.523       544.687764            0.109480\n",
       "Indonesia                0.591       549.830957            0.242428\n",
       "Iran                     0.694      2292.101241            1.138649\n",
       "Ireland                  0.909      6278.731520            2.194228\n",
       "Italy                    0.869      5712.730089            1.411441\n",
       "Japan                    0.894      8489.650409            1.812485\n",
       "Kazakhstan               0.727      4487.286130            0.749969\n",
       "Kuwait                   0.756     16752.775038            5.572449\n",
       "Lithuania                0.803      3411.819702            0.826151\n",
       "Malaysia                 0.746      3261.489906            0.815091\n",
       "Mexico                   0.755      1899.192669            0.818102\n",
       "Netherlands              0.902      7209.937237            2.795083\n",
       "New Zealand              0.903      9630.584396            1.705707\n",
       "Norway                   0.942     24855.000464            2.154276\n",
       "Pakistan                 0.493       470.254290            0.116657\n",
       "Peru                     0.704       966.909191            0.251233\n",
       "Philippines              0.630       585.121568            0.157481\n",
       "Poland                   0.800      3661.646104            0.632971\n",
       "Portugal                 0.798      4860.423431            1.359078\n",
       "Qatar                    0.825     15682.987421            3.368326\n",
       "Romania                  0.767      2451.956718            0.477619\n",
       "Russia                   0.742      6317.241379            0.880815\n",
       "Saudi Arabia             0.755      6746.702298            3.768908\n",
       "Singapore                0.850      8513.707885           10.341927\n",
       "Slovak Republic          0.825      5250.200192            0.761558\n",
       "South Africa             0.604      4938.404944            0.528053\n",
       "Spain                    0.866      6101.302069            1.767248\n",
       "Sweden                   0.899     15257.935753            1.606222\n",
       "Switzerland              0.893      8163.295576            1.503683\n",
       "Thailand                 0.670      2083.556337            0.563378\n",
       "Turkey                   0.688      2350.520810            0.435655\n",
       "Turkmenistan             0.666      2259.873748            1.109415\n",
       "Ukraine                  0.725      3528.924829            0.331639\n",
       "United Arab Emirates     0.827     12168.324580            3.821264\n",
       "United Kingdom           0.856      6136.015114            1.301253\n",
       "United States            0.905     13657.449509            3.117270\n",
       "Uzbekistan               0.619      1658.366830            0.204490\n",
       "Venezuela                0.720      2987.206689            1.087568"
      ]
     },
     "execution_count": 3,
     "metadata": {},
     "output_type": "execute_result"
    }
   ],
   "source": [
    "#Juntando os dados e limpando os NaNs\n",
    "\n",
    "df = IDH_idx.join(elecpc_idx, how = 'inner', lsuffix = '_HDI', rsuffix = '_ECPC (kWh)')\n",
    "\n",
    "data = df.join(oilpc_idx, how = 'inner', rsuffix = '_OCPC (tonnes)')\n",
    "\n",
    "data.columns = ['2007_HDI', '2007_ECPC (kWh)', '2007_OCPC (tonnes)']    #renomeando as colunas\n",
    "\n",
    "data.dropna(axis = 0, how = 'any', thresh = None, subset = None, inplace = True)   #Limpa as linhas que possuem qualquer NaN\n",
    "data"
   ]
  },
  {
   "cell_type": "markdown",
   "metadata": {},
   "source": [
    "# Análises e explicação dos resultados"
   ]
  },
  {
   "cell_type": "code",
   "execution_count": 4,
   "metadata": {},
   "outputs": [
    {
     "data": {
      "text/html": [
       "<div>\n",
       "<style scoped>\n",
       "    .dataframe tbody tr th:only-of-type {\n",
       "        vertical-align: middle;\n",
       "    }\n",
       "\n",
       "    .dataframe tbody tr th {\n",
       "        vertical-align: top;\n",
       "    }\n",
       "\n",
       "    .dataframe thead th {\n",
       "        text-align: right;\n",
       "    }\n",
       "</style>\n",
       "<table border=\"1\" class=\"dataframe\">\n",
       "  <thead>\n",
       "    <tr style=\"text-align: right;\">\n",
       "      <th></th>\n",
       "      <th>2007_HDI</th>\n",
       "      <th>2007_ECPC (kWh)</th>\n",
       "      <th>2007_OCPC (tonnes)</th>\n",
       "    </tr>\n",
       "  </thead>\n",
       "  <tbody>\n",
       "    <tr>\n",
       "      <th>count</th>\n",
       "      <td>60.000000</td>\n",
       "      <td>60.000000</td>\n",
       "      <td>60.000000</td>\n",
       "    </tr>\n",
       "    <tr>\n",
       "      <th>mean</th>\n",
       "      <td>0.773633</td>\n",
       "      <td>6357.280867</td>\n",
       "      <td>1.483980</td>\n",
       "    </tr>\n",
       "    <tr>\n",
       "      <th>std</th>\n",
       "      <td>0.113896</td>\n",
       "      <td>6486.107769</td>\n",
       "      <td>1.615812</td>\n",
       "    </tr>\n",
       "    <tr>\n",
       "      <th>min</th>\n",
       "      <td>0.478000</td>\n",
       "      <td>200.802874</td>\n",
       "      <td>0.031543</td>\n",
       "    </tr>\n",
       "    <tr>\n",
       "      <th>25%</th>\n",
       "      <td>0.698500</td>\n",
       "      <td>2284.044368</td>\n",
       "      <td>0.527476</td>\n",
       "    </tr>\n",
       "    <tr>\n",
       "      <th>50%</th>\n",
       "      <td>0.784500</td>\n",
       "      <td>4673.854781</td>\n",
       "      <td>1.028605</td>\n",
       "    </tr>\n",
       "    <tr>\n",
       "      <th>75%</th>\n",
       "      <td>0.871750</td>\n",
       "      <td>7680.946431</td>\n",
       "      <td>1.841385</td>\n",
       "    </tr>\n",
       "    <tr>\n",
       "      <th>max</th>\n",
       "      <td>0.942000</td>\n",
       "      <td>36852.544886</td>\n",
       "      <td>10.341927</td>\n",
       "    </tr>\n",
       "  </tbody>\n",
       "</table>\n",
       "</div>"
      ],
      "text/plain": [
       "        2007_HDI  2007_ECPC (kWh)  2007_OCPC (tonnes)\n",
       "count  60.000000        60.000000           60.000000\n",
       "mean    0.773633      6357.280867            1.483980\n",
       "std     0.113896      6486.107769            1.615812\n",
       "min     0.478000       200.802874            0.031543\n",
       "25%     0.698500      2284.044368            0.527476\n",
       "50%     0.784500      4673.854781            1.028605\n",
       "75%     0.871750      7680.946431            1.841385\n",
       "max     0.942000     36852.544886           10.341927"
      ]
     },
     "execution_count": 4,
     "metadata": {},
     "output_type": "execute_result"
    }
   ],
   "source": [
    "data.describe()"
   ]
  },
  {
   "cell_type": "code",
   "execution_count": 5,
   "metadata": {},
   "outputs": [
    {
     "data": {
      "text/html": [
       "<div>\n",
       "<style scoped>\n",
       "    .dataframe tbody tr th:only-of-type {\n",
       "        vertical-align: middle;\n",
       "    }\n",
       "\n",
       "    .dataframe tbody tr th {\n",
       "        vertical-align: top;\n",
       "    }\n",
       "\n",
       "    .dataframe thead th {\n",
       "        text-align: right;\n",
       "    }\n",
       "</style>\n",
       "<table border=\"1\" class=\"dataframe\">\n",
       "  <thead>\n",
       "    <tr style=\"text-align: right;\">\n",
       "      <th></th>\n",
       "      <th>2007_HDI</th>\n",
       "      <th>2007_ECPC (kWh)</th>\n",
       "      <th>2007_OCPC (tonnes)</th>\n",
       "    </tr>\n",
       "  </thead>\n",
       "  <tbody>\n",
       "    <tr>\n",
       "      <th>2007_HDI</th>\n",
       "      <td>1.000000</td>\n",
       "      <td>0.620477</td>\n",
       "      <td>0.477035</td>\n",
       "    </tr>\n",
       "    <tr>\n",
       "      <th>2007_ECPC (kWh)</th>\n",
       "      <td>0.620477</td>\n",
       "      <td>1.000000</td>\n",
       "      <td>0.536321</td>\n",
       "    </tr>\n",
       "    <tr>\n",
       "      <th>2007_OCPC (tonnes)</th>\n",
       "      <td>0.477035</td>\n",
       "      <td>0.536321</td>\n",
       "      <td>1.000000</td>\n",
       "    </tr>\n",
       "  </tbody>\n",
       "</table>\n",
       "</div>"
      ],
      "text/plain": [
       "                    2007_HDI  2007_ECPC (kWh)  2007_OCPC (tonnes)\n",
       "2007_HDI            1.000000         0.620477            0.477035\n",
       "2007_ECPC (kWh)     0.620477         1.000000            0.536321\n",
       "2007_OCPC (tonnes)  0.477035         0.536321            1.000000"
      ]
     },
     "execution_count": 5,
     "metadata": {},
     "output_type": "execute_result"
    }
   ],
   "source": [
    "#Tabela de correlação entre as variáveis\n",
    "data.corr('pearson') "
   ]
  },
  {
   "cell_type": "code",
   "execution_count": 6,
   "metadata": {},
   "outputs": [
    {
     "data": {
      "image/png": "[encoded data removed]",
      "text/plain": [
       "<matplotlib.figure.Figure at 0x1b9961ccbe0>"
      ]
     },
     "metadata": {},
     "output_type": "display_data"
    }
   ],
   "source": [
    "#Plotando primeiro scatter, IDH x Consumo de petróleo per capita  \n",
    "\n",
    "plt.scatter(data['2007_OCPC (tonnes)'], data['2007_HDI'])\n",
    "plt.ylabel('HDI')\n",
    "plt.xlabel('Oil Consumption per capita (tonnes)')\n",
    "plt.title('IDH x Consumo de petróleo per capita')\n",
    "sns.regplot(data['2007_OCPC (tonnes)'], data['2007_HDI'], color = 'r') \n",
    "plt.grid(True)"
   ]
  },
  {
   "cell_type": "markdown",
   "metadata": {},
   "source": [
    "Ao analisar o gráfico de dispersão do IDH pelo Consumo de Petróleo per capita, verifica-se que há uma baixa correlação entre as duas variáveis (0.5, aproximadamente). \n",
    "A maioria dos países com IDH superior a 0.8 apresentam maior consumo de petróleo per capita em relação aos países com índices inferiores. Percebe-se também que os poucos países da amostra com baixo IDH (inferior a 0.6) apresentam consumo de petróleo per capita muito menor que uma tonelada, valor inferior à média (1.5 toneladas) e equivalente à mediana da amostra.\n",
    "Já os países com IDH entre 0.6 e 0.8 apresentam um consumo per capita muito próximo à mediana (1 tonelada), com excessão de dois outliers. \n",
    "Mesmo não havendo causalidade, é seguro afirmar que os países com baixo IDH consomem menos petróleo per capita que os com IDH médio (entre 0.6 e 0.8), os quais apresentam um consumo próximo à mediana (1 tonelada); e que a maioria dos países com alto IDH (superior a 0.8) apresentam consumo de petróleo per capita superior aos com IDH médio."
   ]
  },
  {
   "cell_type": "code",
   "execution_count": 7,
   "metadata": {},
   "outputs": [
    {
     "data": {
      "image/png": "[encoded data removed]",
      "text/plain": [
       "<matplotlib.figure.Figure at 0x1b9961cc2b0>"
      ]
     },
     "metadata": {},
     "output_type": "display_data"
    }
   ],
   "source": [
    "#Plotando o segundo scatter, IDH x Consumo de energia elétrica per capita\n",
    "\n",
    "plt.scatter(data['2007_ECPC (kWh)'], data['2007_HDI'])\n",
    "plt.ylabel('HDI')\n",
    "plt.xlabel('Electricity Consumption per capita (kWh)')\n",
    "plt.title('IDH x Consumo de energia elétrica per capita')\n",
    "sns.regplot(data['2007_ECPC (kWh)'], data['2007_HDI'], color = 'b')\n",
    "plt.grid(True)"
   ]
  },
  {
   "cell_type": "markdown",
   "metadata": {},
   "source": [
    "Analisando o gráfico de dispersão do IDH pelo Consumo de Energia Elétrica per capita verifica-se um comportamento dos pontos gerados muito semelhante ao observado no scatter do IDH pelo Consumo de Petróleo per capita, porém com uma correlação ligeiramente maior de aproximadamente 0.6. Verifica-se neste caso que, assim como no anterior, os países com baixo IDH apresentam um consumo de energia elétrica per capita muito inferior à média (6357 kWh), porém aqui muito inferior também à mediana (4673 kWh). Já a maioria dos países com IDH médio apresentam consumo per capita menor que a média, porém mais próximo à mediana. Já os com alto IDH possuem consumo per capita acima da média e mais de quatro outliers com valores extremamente altos. Observa-se portanto um comportamento muito semelhante ao scatter do IDH pelo Consumo de Petróleo per capita, porém aqui os países com baixo IDH apresentam consumo per capita muito mais distante em relação à média e à mediana, assim como os com alto IDH."
   ]
  },
  {
   "cell_type": "code",
   "execution_count": 8,
   "metadata": {},
   "outputs": [
    {
     "data": {
      "image/png": "[encoded data removed]",
      "text/plain": [
       "<matplotlib.figure.Figure at 0x1b9963adef0>"
      ]
     },
     "metadata": {},
     "output_type": "display_data"
    }
   ],
   "source": [
    "#Plotando terceiro scatter, Consumo de petróleo per capita x Consumo de energia elétrica per capita\n",
    "\n",
    "plt.scatter(data['2007_ECPC (kWh)'], data['2007_OCPC (tonnes)'])\n",
    "plt.ylabel('Oil Consumption per capita (tonnes)')\n",
    "plt.xlabel('Electricity Consumption per capita (kWh)')\n",
    "plt.title('Consumo de petróleo per capita x Consumo de energia elétrica per capita')\n",
    "sns.regplot(data['2007_ECPC (kWh)'], data['2007_OCPC (tonnes)'], color = 'g')\n",
    "plt.grid(True)"
   ]
  },
  {
   "cell_type": "markdown",
   "metadata": {},
   "source": [
    "Comparando o Consumo de Energia Elétrica com o Consumo de Petróleo (ambos per capita) em um scatter, verifica-se uma correlação de aproximadamente 0.5. Por tratarem de variáveis energéticas, e pelo fato de todo país utilizar alguma das duas como forma de energia, acabam reproduzindo comportamentos semelhantes nos gráficos ao serem comparados com o IDH. Entretanto, não possuem relação direta entre si, tendo em vista que a energia elétrica utilizada pelos cidadãos abrange diversas funções (iluminação, uso de eletrodomésticos, etc...), enquanto o uso do petróleo está diretamente ligado à compra e uso de combustíveis. Logo, não necessariamente um país com alto consumo de eletricidade per capita apresentará alto consumo de petróleo per capita, e vice versa. Porém, esta correspondência é possível e ocorre em muitos países, como por exemplo os Estados Unidos, e pode ser identificada em muitos pontos do scatter."
   ]
  },
  {
   "cell_type": "code",
   "execution_count": 9,
   "metadata": {},
   "outputs": [
    {
     "data": {
      "text/plain": [
       "Text(0.5,1,'Boxplot IDH 2007')"
      ]
     },
     "execution_count": 9,
     "metadata": {},
     "output_type": "execute_result"
    },
    {
     "data": {
      "image/png": "[encoded data removed]",
      "text/plain": [
       "<matplotlib.figure.Figure at 0x1b99611deb8>"
      ]
     },
     "metadata": {},
     "output_type": "display_data"
    }
   ],
   "source": [
    "plt.boxplot(data['2007_HDI'])\n",
    "plt.title('Boxplot IDH 2007')"
   ]
  },
  {
   "cell_type": "code",
   "execution_count": 10,
   "metadata": {},
   "outputs": [
    {
     "data": {
      "text/plain": [
       "Text(0.5,1,'Boxplot Consumo de Energia Elétrica per capita em 2007 (kWh)')"
      ]
     },
     "execution_count": 10,
     "metadata": {},
     "output_type": "execute_result"
    },
    {
     "data": {
      "image/png": "[encoded data removed]",
      "text/plain": [
       "<matplotlib.figure.Figure at 0x1b996438d30>"
      ]
     },
     "metadata": {},
     "output_type": "display_data"
    }
   ],
   "source": [
    "plt.boxplot(data['2007_ECPC (kWh)'])\n",
    "plt.title('Boxplot Consumo de Energia Elétrica per capita em 2007 (kWh)')"
   ]
  },
  {
   "cell_type": "code",
   "execution_count": 11,
   "metadata": {},
   "outputs": [
    {
     "data": {
      "text/plain": [
       "Text(0.5,1,'Boxplot Consumo de Petróleo per capita em 2007 (toneladas)')"
      ]
     },
     "execution_count": 11,
     "metadata": {},
     "output_type": "execute_result"
    },
    {
     "data": {
      "image/png": "[encoded data removed]",
      "text/plain": [
       "<matplotlib.figure.Figure at 0x1b9961cefd0>"
      ]
     },
     "metadata": {},
     "output_type": "display_data"
    }
   ],
   "source": [
    "plt.boxplot(data['2007_OCPC (tonnes)'])\n",
    "plt.title('Boxplot Consumo de Petróleo per capita em 2007 (toneladas)')"
   ]
  },
  {
   "cell_type": "code",
   "execution_count": 13,
   "metadata": {},
   "outputs": [
    {
     "data": {
      "text/plain": [
       "Text(0.5,1,'Histograma IDH')"
      ]
     },
     "execution_count": 13,
     "metadata": {},
     "output_type": "execute_result"
    },
    {
     "data": {
      "image/png": "[encoded data removed]",
      "text/plain": [
       "<matplotlib.figure.Figure at 0x1b9963dd240>"
      ]
     },
     "metadata": {},
     "output_type": "display_data"
    }
   ],
   "source": [
    "#Histograma IDH\n",
    "\n",
    "plt.hist(data['2007_HDI'])\n",
    "plt.title('Histograma IDH')"
   ]
  },
  {
   "cell_type": "markdown",
   "metadata": {},
   "source": [
    "Um último fator a ser considerado para a elaboração da conclusão é a uniformidade da amostra. Como pode-se observar pelo histograma e pelo boxplot, a maioria dos 60 países utilizados no dataframe possuem um IDH entre 0.7 e 0.9, tornando a média próxima a 0.8, o que é considerado um valor alto para o IDH. Devido à falta de países com baixo IDH na amostra, não é seguro tomar uma conclusão imediata, mesmo que a análise indique que os países com baixo IDH consomem menos eletricidade e petróleo per capita em relação aos outros. Entretanto, a amostra apresenta uma quantidade semelhante de países com IDH alto e médio, o que fornece maior segurança na formulação de uma conclusão capaz de responder à pergunta que estimulou esta análise."
   ]
  },
  {
   "cell_type": "markdown",
   "metadata": {},
   "source": [
    "# Conclusão"
   ]
  },
  {
   "cell_type": "markdown",
   "metadata": {},
   "source": [
    "Devido à baixa correlação entre o IDH e as variáveis utilizadas, não pode-se afirmar que elas influenciam diretamente o IDH dos países. Entretanto, a partir dos gráficos e resultados obtidos com a análise é possível concluir com certeza que os países com maior consumo de energia elétrica e petróleo per capita de toda a amostra possuem alto IDH ou médio próximo a 0.8. De maneira análoga, verifica-se que os países com baixo IDH apresentam consumos per capita muito inferiores às médias da amostra. Porém, como dito antes, a falta de países com IDH baixo na amostra não permite a formulação de uma conclusão exata, apesar de tudo indicar que, nos 'extremos' (IDH alto ou baixo), o IDH apresenta maior correlação com os níveis de consumo de energia elétrica e petróleo per capita, enquanto os países com IDH médio apresentam baixa correlação. \n",
    "\n",
    "A ideia de que países com maiores IDHs apresentam maior consumo de eletricidade e petróleo per capita em relação aos com menores índices é plausível na realidade, tendo em vista que um dos fatores componentes deste Índice é o PIB per capita. Em países onde este fator é elevado, é concedida à população como um todo melhores condições de adquirir bens de consumo, como por exemplo veículos motorizados, o que consequentemente aumentaria o consumo de petróleo per capita. O mesmo aplica-se à energia elétrica, a qual seria mais utilizada com o aumento do consumo de eletrodomésticos, por exemplo. Entretanto, estes são fenômenos que podem ou não ocorrer, o que é refletido na baixa correlação entre o IDH e as variáveis.\n",
    "\n",
    "Por fim, counclui-se que há uma relação, ainda que fosca, entre o IDH e as variáveis utilizadas. Países com alto IDH apresentam altos consumos de energia elétrica e petróleo per capita em relação aos com menores índices, enquanto os com baixo IDH possuem consumos muito inferiores em relação aos com maiores. Porém, isto poderia ser melhor verificado em trabalhos futuros, utilizando amostras de diferentes anos as quais possuam mais países com IDHs baixos.\n",
    "\n"
   ]
  }
 ],
 "metadata": {
  "kernelspec": {
   "display_name": "Python 3",
   "language": "python",
   "name": "python3"
  },
  "language_info": {
   "codemirror_mode": {
    "name": "ipython",
    "version": 3
   },
   "file_extension": ".py",
   "mimetype": "text/x-python",
   "name": "python",
   "nbconvert_exporter": "python",
   "pygments_lexer": "ipython3",
   "version": "3.6.4"
  }
 },
 "nbformat": 4,
 "nbformat_minor": 2
}
